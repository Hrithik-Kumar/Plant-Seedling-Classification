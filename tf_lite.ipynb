{
 "cells": [
  {
   "cell_type": "code",
   "execution_count": 1,
   "id": "3a6750f4",
   "metadata": {},
   "outputs": [
    {
     "name": "stderr",
     "output_type": "stream",
     "text": [
      "2024-01-21 15:39:20.212469: I tensorflow/core/util/util.cc:169] oneDNN custom operations are on. You may see slightly different numerical results due to floating-point round-off errors from different computation orders. To turn them off, set the environment variable `TF_ENABLE_ONEDNN_OPTS=0`.\n"
     ]
    }
   ],
   "source": [
    "import tensorflow as tf\n",
    "\n",
    "from tensorflow import keras"
   ]
  },
  {
   "cell_type": "code",
   "execution_count": 8,
   "id": "3f85bcbb",
   "metadata": {},
   "outputs": [],
   "source": [
    "# from tensorflow.keras.preprocessing.image import load_img, img_to_array\n",
    "import numpy as np"
   ]
  },
  {
   "cell_type": "code",
   "execution_count": 3,
   "id": "71519efb",
   "metadata": {},
   "outputs": [],
   "source": [
    "model_path = '/home/jovyan/examples/examples/tensorflow/Seed3/model-00058-0.32378-0.29181-.h5'"
   ]
  },
  {
   "cell_type": "code",
   "execution_count": 4,
   "id": "6e860715",
   "metadata": {},
   "outputs": [
    {
     "name": "stderr",
     "output_type": "stream",
     "text": [
      "2024-01-21 15:39:26.394327: I tensorflow/stream_executor/cuda/cuda_gpu_executor.cc:975] successful NUMA node read from SysFS had negative value (-1), but there must be at least one NUMA node, so returning NUMA node zero\n",
      "2024-01-21 15:39:26.401343: I tensorflow/stream_executor/cuda/cuda_gpu_executor.cc:975] successful NUMA node read from SysFS had negative value (-1), but there must be at least one NUMA node, so returning NUMA node zero\n",
      "2024-01-21 15:39:26.401935: I tensorflow/stream_executor/cuda/cuda_gpu_executor.cc:975] successful NUMA node read from SysFS had negative value (-1), but there must be at least one NUMA node, so returning NUMA node zero\n",
      "2024-01-21 15:39:26.402851: I tensorflow/core/platform/cpu_feature_guard.cc:193] This TensorFlow binary is optimized with oneAPI Deep Neural Network Library (oneDNN) to use the following CPU instructions in performance-critical operations:  AVX2 AVX512F AVX512_VNNI FMA\n",
      "To enable them in other operations, rebuild TensorFlow with the appropriate compiler flags.\n",
      "2024-01-21 15:39:26.403218: I tensorflow/stream_executor/cuda/cuda_gpu_executor.cc:975] successful NUMA node read from SysFS had negative value (-1), but there must be at least one NUMA node, so returning NUMA node zero\n",
      "2024-01-21 15:39:26.404096: I tensorflow/stream_executor/cuda/cuda_gpu_executor.cc:975] successful NUMA node read from SysFS had negative value (-1), but there must be at least one NUMA node, so returning NUMA node zero\n",
      "2024-01-21 15:39:26.404900: I tensorflow/stream_executor/cuda/cuda_gpu_executor.cc:975] successful NUMA node read from SysFS had negative value (-1), but there must be at least one NUMA node, so returning NUMA node zero\n",
      "2024-01-21 15:39:27.054380: I tensorflow/stream_executor/cuda/cuda_gpu_executor.cc:975] successful NUMA node read from SysFS had negative value (-1), but there must be at least one NUMA node, so returning NUMA node zero\n",
      "2024-01-21 15:39:27.054977: I tensorflow/stream_executor/cuda/cuda_gpu_executor.cc:975] successful NUMA node read from SysFS had negative value (-1), but there must be at least one NUMA node, so returning NUMA node zero\n",
      "2024-01-21 15:39:27.055499: I tensorflow/stream_executor/cuda/cuda_gpu_executor.cc:975] successful NUMA node read from SysFS had negative value (-1), but there must be at least one NUMA node, so returning NUMA node zero\n",
      "2024-01-21 15:39:27.056016: I tensorflow/core/common_runtime/gpu/gpu_device.cc:1532] Created device /job:localhost/replica:0/task:0/device:GPU:0 with 13795 MB memory:  -> device: 0, name: Tesla T4, pci bus id: 0000:00:1e.0, compute capability: 7.5\n"
     ]
    }
   ],
   "source": [
    "model = keras.models.load_model(model_path)"
   ]
  },
  {
   "cell_type": "code",
   "execution_count": 47,
   "id": "549e4fd2",
   "metadata": {},
   "outputs": [
    {
     "name": "stdout",
     "output_type": "stream",
     "text": [
      "Model: \"sequential_3\"\n",
      "_________________________________________________________________\n",
      " Layer (type)                Output Shape              Param #   \n",
      "=================================================================\n",
      " rescaling_3 (Rescaling)     (None, 120, 120, 3)       0         \n",
      "                                                                 \n",
      " random_flip (RandomFlip)    (None, 120, 120, 3)       0         \n",
      "                                                                 \n",
      " random_rotation (RandomRota  (None, 120, 120, 3)      0         \n",
      " tion)                                                           \n",
      "                                                                 \n",
      " conv2d_18 (Conv2D)          (None, 120, 120, 32)      896       \n",
      "                                                                 \n",
      " conv2d_19 (Conv2D)          (None, 118, 118, 32)      9248      \n",
      "                                                                 \n",
      " max_pooling2d_9 (MaxPooling  (None, 59, 59, 32)       0         \n",
      " 2D)                                                             \n",
      "                                                                 \n",
      " dropout_8 (Dropout)         (None, 59, 59, 32)        0         \n",
      "                                                                 \n",
      " conv2d_20 (Conv2D)          (None, 59, 59, 64)        18496     \n",
      "                                                                 \n",
      " conv2d_21 (Conv2D)          (None, 57, 57, 64)        36928     \n",
      "                                                                 \n",
      " max_pooling2d_10 (MaxPoolin  (None, 28, 28, 64)       0         \n",
      " g2D)                                                            \n",
      "                                                                 \n",
      " dropout_9 (Dropout)         (None, 28, 28, 64)        0         \n",
      "                                                                 \n",
      " conv2d_22 (Conv2D)          (None, 28, 28, 128)       73856     \n",
      "                                                                 \n",
      " conv2d_23 (Conv2D)          (None, 26, 26, 128)       147584    \n",
      "                                                                 \n",
      " max_pooling2d_11 (MaxPoolin  (None, 13, 13, 128)      0         \n",
      " g2D)                                                            \n",
      "                                                                 \n",
      " dropout_10 (Dropout)        (None, 13, 13, 128)       0         \n",
      "                                                                 \n",
      " flatten_3 (Flatten)         (None, 21632)             0         \n",
      "                                                                 \n",
      " dense_6 (Dense)             (None, 512)               11076096  \n",
      "                                                                 \n",
      " dropout_11 (Dropout)        (None, 512)               0         \n",
      "                                                                 \n",
      " dense_7 (Dense)             (None, 12)                6156      \n",
      "                                                                 \n",
      "=================================================================\n",
      "Total params: 11,369,260\n",
      "Trainable params: 11,369,260\n",
      "Non-trainable params: 0\n",
      "_________________________________________________________________\n"
     ]
    }
   ],
   "source": [
    "model.summary()"
   ]
  },
  {
   "cell_type": "code",
   "execution_count": 73,
   "id": "4855bbb1",
   "metadata": {},
   "outputs": [],
   "source": [
    "test_path = './data/test'"
   ]
  },
  {
   "cell_type": "code",
   "execution_count": 74,
   "id": "2ebc84d6",
   "metadata": {},
   "outputs": [],
   "source": [
    "img = load_img(test_path + '/003d61042.png', target_size=(120, 120))\n",
    "img_array = img_to_array(img)\n",
    "img_array = tf.expand_dims(img_array, axis=0)\n",
    "# img_array /= 255.0"
   ]
  },
  {
   "cell_type": "code",
   "execution_count": 75,
   "id": "5a92f238",
   "metadata": {},
   "outputs": [
    {
     "data": {
      "image/png": "[encoded data removed]",
      "text/plain": [
       "<PIL.Image.Image image mode=RGB size=120x120>"
      ]
     },
     "execution_count": 75,
     "metadata": {},
     "output_type": "execute_result"
    }
   ],
   "source": [
    "img"
   ]
  },
  {
   "cell_type": "code",
   "execution_count": 76,
   "id": "28768b0f",
   "metadata": {},
   "outputs": [
    {
     "name": "stdout",
     "output_type": "stream",
     "text": [
      "1/1 [==============================] - 0s 16ms/step\n"
     ]
    }
   ],
   "source": [
    "# Make predictions\n",
    "predictions = model.predict(img_array)"
   ]
  },
  {
   "cell_type": "code",
   "execution_count": 77,
   "id": "da4807df",
   "metadata": {},
   "outputs": [
    {
     "data": {
      "text/plain": [
       "array([[7.9424040e-05, 6.8874584e-08, 2.2340471e-05, 5.5422487e-07,\n",
       "        1.4871557e-04, 9.9772483e-01, 5.9127524e-06, 2.7168537e-05,\n",
       "        4.7542864e-07, 2.2871220e-07, 5.9173527e-07, 1.9897535e-03]],\n",
       "      dtype=float32)"
      ]
     },
     "execution_count": 77,
     "metadata": {},
     "output_type": "execute_result"
    }
   ],
   "source": [
    "predictions"
   ]
  },
  {
   "cell_type": "code",
   "execution_count": 16,
   "id": "d0dda482",
   "metadata": {},
   "outputs": [],
   "source": [
    "labels = ['Black-grass', 'Charlock', 'Cleavers', 'Common Chickweed', 'Common wheat', 'Fat Hen', 'Loose Silky-bent', 'Maize', 'Scentless Mayweed', 'Shepherds Purse', 'Small-flowered Cranesbill', 'Sugar beet']"
   ]
  },
  {
   "cell_type": "code",
   "execution_count": 79,
   "id": "40db65e7",
   "metadata": {},
   "outputs": [],
   "source": [
    "# Get the class with the highest probability\n",
    "score = tf.nn.softmax(predictions[0])"
   ]
  },
  {
   "cell_type": "code",
   "execution_count": 80,
   "id": "840f3ef1",
   "metadata": {},
   "outputs": [
    {
     "data": {
      "text/plain": [
       "{'Black-grass': 0.07292195,\n",
       " 'Charlock': 0.072916165,\n",
       " 'Cleavers': 0.07291779,\n",
       " 'Common Chickweed': 0.072916195,\n",
       " 'Common wheat': 0.072927,\n",
       " 'Fat Hen': 0.19775622,\n",
       " 'Loose Silky-bent': 0.07291659,\n",
       " 'Maize': 0.07291814,\n",
       " 'Scentless Mayweed': 0.072916195,\n",
       " 'Shepherds Purse': 0.07291617,\n",
       " 'Small-flowered Cranesbill': 0.0729162,\n",
       " 'Sugar beet': 0.073061384}"
      ]
     },
     "execution_count": 80,
     "metadata": {},
     "output_type": "execute_result"
    }
   ],
   "source": [
    "dict(zip(labels, np.array(score)))"
   ]
  },
  {
   "cell_type": "code",
   "execution_count": 81,
   "id": "63315ba4",
   "metadata": {},
   "outputs": [
    {
     "name": "stdout",
     "output_type": "stream",
     "text": [
      "This image most likely belongs to Fat Hen with a 19.78 percent confidence.\n"
     ]
    }
   ],
   "source": [
    "print(\n",
    "    \"This image most likely belongs to {} with a {:.2f} percent confidence.\"\n",
    "    .format(labels[np.argmax(score)], 100 * np.max(score))\n",
    ")"
   ]
  },
  {
   "cell_type": "markdown",
   "id": "a48c7a11",
   "metadata": {},
   "source": [
    "### Convert to Tf-lite"
   ]
  },
  {
   "cell_type": "code",
   "execution_count": 82,
   "id": "b7f8beec",
   "metadata": {},
   "outputs": [
    {
     "name": "stderr",
     "output_type": "stream",
     "text": [
      "WARNING:absl:Found untraced functions such as _jit_compiled_convolution_op, _jit_compiled_convolution_op, _jit_compiled_convolution_op, _jit_compiled_convolution_op, _jit_compiled_convolution_op while saving (showing 5 of 6). These functions will not be directly callable after loading.\n"
     ]
    },
    {
     "name": "stdout",
     "output_type": "stream",
     "text": [
      "INFO:tensorflow:Assets written to: /tmp/tmpqyfllly7/assets\n"
     ]
    },
    {
     "name": "stderr",
     "output_type": "stream",
     "text": [
      "INFO:tensorflow:Assets written to: /tmp/tmpqyfllly7/assets\n",
      "2024-01-21 16:11:11.271953: W tensorflow/compiler/mlir/lite/python/tf_tfl_flatbuffer_helpers.cc:362] Ignored output_format.\n",
      "2024-01-21 16:11:11.271992: W tensorflow/compiler/mlir/lite/python/tf_tfl_flatbuffer_helpers.cc:365] Ignored drop_control_dependency.\n",
      "2024-01-21 16:11:11.272799: I tensorflow/cc/saved_model/reader.cc:43] Reading SavedModel from: /tmp/tmpqyfllly7\n",
      "2024-01-21 16:11:11.277507: I tensorflow/cc/saved_model/reader.cc:81] Reading meta graph with tags { serve }\n",
      "2024-01-21 16:11:11.277537: I tensorflow/cc/saved_model/reader.cc:122] Reading SavedModel debug info (if present) from: /tmp/tmpqyfllly7\n",
      "2024-01-21 16:11:11.293927: I tensorflow/compiler/mlir/mlir_graph_optimization_pass.cc:354] MLIR V1 optimization pass is not enabled\n",
      "2024-01-21 16:11:11.297794: I tensorflow/cc/saved_model/loader.cc:228] Restoring SavedModel bundle.\n",
      "2024-01-21 16:11:11.456127: I tensorflow/cc/saved_model/loader.cc:212] Running initialization op on SavedModel bundle at path: /tmp/tmpqyfllly7\n",
      "2024-01-21 16:11:11.496252: I tensorflow/cc/saved_model/loader.cc:301] SavedModel load for tags { serve }; Status: success: OK. Took 223456 microseconds.\n",
      "2024-01-21 16:11:11.550832: I tensorflow/compiler/mlir/tensorflow/utils/dump_mlir_util.cc:263] disabling MLIR crash reproducer, set env var `MLIR_CRASH_REPRODUCER_DIRECTORY` to enable.\n"
     ]
    }
   ],
   "source": [
    "# Convert the model.\n",
    "converter = tf.lite.TFLiteConverter.from_keras_model(model)\n",
    "tflite_model = converter.convert()\n",
    "\n",
    "# Save the model.\n",
    "with open('model.tflite', 'wb') as f_out:\n",
    "  f_out.write(tflite_model)"
   ]
  },
  {
   "cell_type": "code",
   "execution_count": 83,
   "id": "0afcad03",
   "metadata": {},
   "outputs": [
    {
     "name": "stdout",
     "output_type": "stream",
     "text": [
      "total 45M\r\n",
      "drwxrwsr-x 4 jovyan jovyan 4.0K Jan 20 13:10 data\r\n",
      "-rw-rw-r-- 1 jovyan jovyan 1.2M Jan 21 15:54 image-classification.ipynb\r\n",
      "-rw-r--r-- 1 jovyan jovyan  44M Jan 21 16:11 model.tflite\r\n",
      "drwxrwsr-x 2 jovyan jovyan 4.0K Jan 20 13:52 Seed2\r\n",
      "drwxrwsr-x 2 jovyan jovyan 4.0K Jan 20 14:06 Seed3\r\n",
      "-rw-rw-r-- 1 jovyan jovyan 6.5K Jan 20 10:16 single-gpu-tensorflow.ipynb\r\n",
      "-rw-rw-r-- 1 jovyan jovyan  48K Jan 21 16:11 tf_lite.py.ipynb\r\n"
     ]
    }
   ],
   "source": [
    "!ls -lh"
   ]
  },
  {
   "cell_type": "code",
   "execution_count": 96,
   "id": "2cd09cdc",
   "metadata": {},
   "outputs": [],
   "source": [
    "import tensorflow.lite as tflite"
   ]
  },
  {
   "cell_type": "code",
   "execution_count": 110,
   "id": "c1a5a989",
   "metadata": {},
   "outputs": [],
   "source": [
    "TF_MODEL_FILE_PATH = 'model.tflite' # The default path to the saved TensorFlow Lite model\n",
    "\n",
    "interpreter = tf.lite.Interpreter(model_path=TF_MODEL_FILE_PATH)\n",
    "interpreter.allocate_tensors()"
   ]
  },
  {
   "cell_type": "code",
   "execution_count": 111,
   "id": "2ec1df2b",
   "metadata": {},
   "outputs": [],
   "source": [
    "input_index = interpreter.get_input_details()[0]['index']\n",
    "output_index = interpreter.get_output_details()[0]['index']"
   ]
  },
  {
   "cell_type": "code",
   "execution_count": 112,
   "id": "33797941",
   "metadata": {},
   "outputs": [
    {
     "data": {
      "text/plain": [
       "{'Black-grass': 0.072921954,\n",
       " 'Charlock': 0.072916165,\n",
       " 'Cleavers': 0.0729178,\n",
       " 'Common Chickweed': 0.0729162,\n",
       " 'Common wheat': 0.07292701,\n",
       " 'Fat Hen': 0.19775622,\n",
       " 'Loose Silky-bent': 0.07291659,\n",
       " 'Maize': 0.07291815,\n",
       " 'Scentless Mayweed': 0.0729162,\n",
       " 'Shepherds Purse': 0.07291619,\n",
       " 'Small-flowered Cranesbill': 0.07291621,\n",
       " 'Sugar beet': 0.07306139}"
      ]
     },
     "execution_count": 112,
     "metadata": {},
     "output_type": "execute_result"
    }
   ],
   "source": [
    "interpreter.set_tensor(input_index, img_array)\n",
    "interpreter.invoke()\n",
    "\n",
    "preds_lite = interpreter.get_tensor(output_index)\n",
    "score = tf.nn.softmax(preds_lite[0])\n",
    "dict(zip(labels, np.array(score)))"
   ]
  },
  {
   "cell_type": "markdown",
   "id": "6896a494",
   "metadata": {},
   "source": [
    "### Removing TF Dependencies"
   ]
  },
  {
   "cell_type": "code",
   "execution_count": 3,
   "id": "f48cc526",
   "metadata": {},
   "outputs": [],
   "source": [
    "from PIL import Image\n"
   ]
  },
  {
   "cell_type": "code",
   "execution_count": 4,
   "id": "60a296af",
   "metadata": {},
   "outputs": [],
   "source": [
    "img_path = './data/test/003d61042.png'"
   ]
  },
  {
   "cell_type": "code",
   "execution_count": 5,
   "id": "d65d81b0",
   "metadata": {},
   "outputs": [
    {
     "name": "stderr",
     "output_type": "stream",
     "text": [
      "/tmp/ipykernel_5362/2561461416.py:2: DeprecationWarning: NEAREST is deprecated and will be removed in Pillow 10 (2023-07-01). Use Resampling.NEAREST or Dither.NONE instead.\n",
      "  img = img.resize((120, 120), Image.NEAREST)\n"
     ]
    }
   ],
   "source": [
    "with Image.open(img_path) as img:\n",
    "    img = img.resize((120, 120), Image.NEAREST)"
   ]
  },
  {
   "cell_type": "code",
   "execution_count": 6,
   "id": "7f91753c",
   "metadata": {},
   "outputs": [
    {
     "data": {
      "image/png": "[encoded data removed]",
      "text/plain": [
       "<PIL.Image.Image image mode=RGB size=120x120>"
      ]
     },
     "execution_count": 6,
     "metadata": {},
     "output_type": "execute_result"
    }
   ],
   "source": [
    "img"
   ]
  },
  {
   "cell_type": "code",
   "execution_count": 117,
   "id": "a89278f1",
   "metadata": {},
   "outputs": [],
   "source": [
    "x = np.array(img, dtype='float32')\n",
    "X = np.array([x])"
   ]
  },
  {
   "cell_type": "code",
   "execution_count": 118,
   "id": "95c64971",
   "metadata": {},
   "outputs": [],
   "source": [
    "interpreter.set_tensor(input_index, X)\n",
    "interpreter.invoke()\n",
    "preds = interpreter.get_tensor(output_index)"
   ]
  },
  {
   "cell_type": "code",
   "execution_count": 119,
   "id": "dd91f663",
   "metadata": {},
   "outputs": [
    {
     "data": {
      "text/plain": [
       "array([[7.9424033e-05, 6.8874705e-08, 2.2340471e-05, 5.5422635e-07,\n",
       "        1.4871554e-04, 9.9772471e-01, 5.9127519e-06, 2.7168531e-05,\n",
       "        4.7542903e-07, 2.2871281e-07, 5.9173516e-07, 1.9897539e-03]],\n",
       "      dtype=float32)"
      ]
     },
     "execution_count": 119,
     "metadata": {},
     "output_type": "execute_result"
    }
   ],
   "source": [
    "preds"
   ]
  },
  {
   "cell_type": "code",
   "execution_count": 121,
   "id": "127bc356",
   "metadata": {},
   "outputs": [
    {
     "data": {
      "text/plain": [
       "{'Black-grass': 0.072921954,\n",
       " 'Charlock': 0.072916165,\n",
       " 'Cleavers': 0.0729178,\n",
       " 'Common Chickweed': 0.0729162,\n",
       " 'Common wheat': 0.07292701,\n",
       " 'Fat Hen': 0.19775622,\n",
       " 'Loose Silky-bent': 0.07291659,\n",
       " 'Maize': 0.07291815,\n",
       " 'Scentless Mayweed': 0.0729162,\n",
       " 'Shepherds Purse': 0.07291619,\n",
       " 'Small-flowered Cranesbill': 0.07291621,\n",
       " 'Sugar beet': 0.07306139}"
      ]
     },
     "execution_count": 121,
     "metadata": {},
     "output_type": "execute_result"
    }
   ],
   "source": [
    "score = tf.nn.softmax(preds[0])\n",
    "dict(zip(labels, np.array(score)))"
   ]
  },
  {
   "cell_type": "markdown",
   "id": "b820f309",
   "metadata": {},
   "source": [
    "### Simpler way of doing this"
   ]
  },
  {
   "cell_type": "code",
   "execution_count": 122,
   "id": "78b8907c",
   "metadata": {},
   "outputs": [
    {
     "name": "stdout",
     "output_type": "stream",
     "text": [
      "Looking in indexes: https://pypi.org/simple, https://google-coral.github.io/py-repo/\n",
      "Collecting tflite_runtime\n",
      "  Downloading tflite_runtime-2.14.0-cp39-cp39-manylinux2014_x86_64.whl (2.4 MB)\n",
      "\u001b[2K     \u001b[90m━━━━━━━━━━━━━━━━━━━━━━━━━━━━━━━━━━━━━━━━\u001b[0m \u001b[32m2.4/2.4 MB\u001b[0m \u001b[31m19.6 MB/s\u001b[0m eta \u001b[36m0:00:00\u001b[0ma \u001b[36m0:00:01\u001b[0m\n",
      "\u001b[?25hRequirement already satisfied: numpy>=1.23.2 in /opt/saturncloud/envs/saturn/lib/python3.9/site-packages (from tflite_runtime) (1.26.3)\n",
      "Installing collected packages: tflite_runtime\n",
      "Successfully installed tflite_runtime-2.14.0\n"
     ]
    }
   ],
   "source": [
    "!pip install --extra-index-url https://google-coral.github.io/py-repo/ tflite_runtime"
   ]
  },
  {
   "cell_type": "code",
   "execution_count": 1,
   "id": "c966714c",
   "metadata": {},
   "outputs": [],
   "source": [
    "import tflite_runtime.interpreter as tflite"
   ]
  },
  {
   "cell_type": "code",
   "execution_count": 2,
   "id": "d79260be",
   "metadata": {},
   "outputs": [
    {
     "name": "stderr",
     "output_type": "stream",
     "text": [
      "INFO: Created TensorFlow Lite XNNPACK delegate for CPU.\n"
     ]
    }
   ],
   "source": [
    "interpreter = tflite.Interpreter(model_path='model.tflite')\n",
    "interpreter.allocate_tensors()\n",
    "\n",
    "input_index = interpreter.get_input_details()[0]['index']\n",
    "output_index = interpreter.get_output_details()[0]['index']"
   ]
  },
  {
   "cell_type": "code",
   "execution_count": 9,
   "id": "ebb24137",
   "metadata": {},
   "outputs": [],
   "source": [
    "x = np.array(img, dtype='float32')\n",
    "X = np.array([x])"
   ]
  },
  {
   "cell_type": "code",
   "execution_count": 17,
   "id": "91d5e338",
   "metadata": {},
   "outputs": [],
   "source": [
    "interpreter.set_tensor(input_index, X)\n",
    "interpreter.invoke()\n",
    "preds = interpreter.get_tensor(output_index)"
   ]
  },
  {
   "cell_type": "code",
   "execution_count": 18,
   "id": "25c6f591",
   "metadata": {},
   "outputs": [
    {
     "data": {
      "text/plain": [
       "array([[7.9424033e-05, 6.8874705e-08, 2.2340471e-05, 5.5422635e-07,\n",
       "        1.4871554e-04, 9.9772471e-01, 5.9127519e-06, 2.7168531e-05,\n",
       "        4.7542903e-07, 2.2871281e-07, 5.9173516e-07, 1.9897539e-03]],\n",
       "      dtype=float32)"
      ]
     },
     "execution_count": 18,
     "metadata": {},
     "output_type": "execute_result"
    }
   ],
   "source": [
    "preds"
   ]
  },
  {
   "cell_type": "code",
   "execution_count": 21,
   "id": "e0854a9e",
   "metadata": {},
   "outputs": [
    {
     "data": {
      "text/plain": [
       "{'Black-grass': 7.942403e-05,\n",
       " 'Charlock': 6.8874705e-08,\n",
       " 'Cleavers': 2.2340471e-05,\n",
       " 'Common Chickweed': 5.5422635e-07,\n",
       " 'Common wheat': 0.00014871554,\n",
       " 'Fat Hen': 0.9977247,\n",
       " 'Loose Silky-bent': 5.912752e-06,\n",
       " 'Maize': 2.7168531e-05,\n",
       " 'Scentless Mayweed': 4.7542903e-07,\n",
       " 'Shepherds Purse': 2.287128e-07,\n",
       " 'Small-flowered Cranesbill': 5.9173516e-07,\n",
       " 'Sugar beet': 0.001989754}"
      ]
     },
     "execution_count": 21,
     "metadata": {},
     "output_type": "execute_result"
    }
   ],
   "source": [
    "dict(zip(labels, preds[0]))"
   ]
  },
  {
   "cell_type": "code",
   "execution_count": null,
   "id": "b207d23a",
   "metadata": {},
   "outputs": [],
   "source": []
  }
 ],
 "metadata": {
  "kernelspec": {
   "display_name": "saturn (Python 3)",
   "language": "python",
   "name": "python3"
  },
  "language_info": {
   "codemirror_mode": {
    "name": "ipython",
    "version": 3
   },
   "file_extension": ".py",
   "mimetype": "text/x-python",
   "name": "python",
   "nbconvert_exporter": "python",
   "pygments_lexer": "ipython3",
   "version": "3.9.13"
  }
 },
 "nbformat": 4,
 "nbformat_minor": 5
}
